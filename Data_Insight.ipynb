{
 "cells": [
  {
   "cell_type": "code",
   "execution_count": 29,
   "metadata": {},
   "outputs": [],
   "source": [
    "from nltk.tokenize import RegexpTokenizer"
   ]
  },
  {
   "cell_type": "code",
   "execution_count": 30,
   "metadata": {},
   "outputs": [],
   "source": [
    "def read_lines(filename):\n",
    "    with open(filename,'r') as fin:\n",
    "        return fin.readlines()"
   ]
  },
  {
   "cell_type": "code",
   "execution_count": 31,
   "metadata": {},
   "outputs": [],
   "source": [
    "def group_lines(lines):\n",
    "    songs = []\n",
    "    index_of_last_new_line = -1\n",
    "    for i,line in enumerate(lines):\n",
    "        if line == '\\n':\n",
    "            songs.append(' '.join(lines[(index_of_last_new_line+1):i]))\n",
    "            index_of_last_new_line = i\n",
    "    return songs"
   ]
  },
  {
   "cell_type": "code",
   "execution_count": 32,
   "metadata": {},
   "outputs": [],
   "source": [
    "lines = read_lines('data/kanye_verses.txt')"
   ]
  },
  {
   "cell_type": "code",
   "execution_count": 33,
   "metadata": {},
   "outputs": [],
   "source": [
    "songs = group_lines(lines)"
   ]
  },
  {
   "cell_type": "code",
   "execution_count": 34,
   "metadata": {},
   "outputs": [],
   "source": [
    "songs = [s.replace('\\n','') for s in songs]"
   ]
  },
  {
   "cell_type": "code",
   "execution_count": 37,
   "metadata": {},
   "outputs": [],
   "source": [
    "def tokenize_song(song):\n",
    "    tokenizer = RegexpTokenizer(r'\\w+')\n",
    "    return tokenizer.tokenize(song)"
   ]
  },
  {
   "cell_type": "code",
   "execution_count": 38,
   "metadata": {},
   "outputs": [
    {
     "data": {
      "text/plain": [
       "\"Let the suicide doors up I threw suicides on the tour bus I threw suicides on the private jet You know what that mean, I'm fly to death I step in Def Jam buildin' like I'm the shit Tell 'em give me fifty million or I'ma quit Most rappers' taste level ain't at my waist level Turn up the bass 'til it's up-in-yo-face level Don't do no press but I get the most press kit Plus, yo, my bitch make your bitch look like Precious Somethin' 'bout Mary, she gone off that molly Now the whole party is melted like Dalí Now everybody is movin' they body Don't sell me apartment, I'll move in the lobby Niggas is loiterin' just to feel important You gon' see lawyers and niggas in Jordans\""
      ]
     },
     "execution_count": 38,
     "metadata": {},
     "output_type": "execute_result"
    }
   ],
   "source": [
    "songs[0]"
   ]
  },
  {
   "cell_type": "code",
   "execution_count": 39,
   "metadata": {},
   "outputs": [
    {
     "data": {
      "text/plain": [
       "['Let',\n",
       " 'the',\n",
       " 'suicide',\n",
       " 'doors',\n",
       " 'up',\n",
       " 'I',\n",
       " 'threw',\n",
       " 'suicides',\n",
       " 'on',\n",
       " 'the',\n",
       " 'tour',\n",
       " 'bus',\n",
       " 'I',\n",
       " 'threw',\n",
       " 'suicides',\n",
       " 'on',\n",
       " 'the',\n",
       " 'private',\n",
       " 'jet',\n",
       " 'You',\n",
       " 'know',\n",
       " 'what',\n",
       " 'that',\n",
       " 'mean',\n",
       " 'I',\n",
       " 'm',\n",
       " 'fly',\n",
       " 'to',\n",
       " 'death',\n",
       " 'I',\n",
       " 'step',\n",
       " 'in',\n",
       " 'Def',\n",
       " 'Jam',\n",
       " 'buildin',\n",
       " 'like',\n",
       " 'I',\n",
       " 'm',\n",
       " 'the',\n",
       " 'shit',\n",
       " 'Tell',\n",
       " 'em',\n",
       " 'give',\n",
       " 'me',\n",
       " 'fifty',\n",
       " 'million',\n",
       " 'or',\n",
       " 'I',\n",
       " 'ma',\n",
       " 'quit',\n",
       " 'Most',\n",
       " 'rappers',\n",
       " 'taste',\n",
       " 'level',\n",
       " 'ain',\n",
       " 't',\n",
       " 'at',\n",
       " 'my',\n",
       " 'waist',\n",
       " 'level',\n",
       " 'Turn',\n",
       " 'up',\n",
       " 'the',\n",
       " 'bass',\n",
       " 'til',\n",
       " 'it',\n",
       " 's',\n",
       " 'up',\n",
       " 'in',\n",
       " 'yo',\n",
       " 'face',\n",
       " 'level',\n",
       " 'Don',\n",
       " 't',\n",
       " 'do',\n",
       " 'no',\n",
       " 'press',\n",
       " 'but',\n",
       " 'I',\n",
       " 'get',\n",
       " 'the',\n",
       " 'most',\n",
       " 'press',\n",
       " 'kit',\n",
       " 'Plus',\n",
       " 'yo',\n",
       " 'my',\n",
       " 'bitch',\n",
       " 'make',\n",
       " 'your',\n",
       " 'bitch',\n",
       " 'look',\n",
       " 'like',\n",
       " 'Precious',\n",
       " 'Somethin',\n",
       " 'bout',\n",
       " 'Mary',\n",
       " 'she',\n",
       " 'gone',\n",
       " 'off',\n",
       " 'that',\n",
       " 'molly',\n",
       " 'Now',\n",
       " 'the',\n",
       " 'whole',\n",
       " 'party',\n",
       " 'is',\n",
       " 'melted',\n",
       " 'like',\n",
       " 'Dalí',\n",
       " 'Now',\n",
       " 'everybody',\n",
       " 'is',\n",
       " 'movin',\n",
       " 'they',\n",
       " 'body',\n",
       " 'Don',\n",
       " 't',\n",
       " 'sell',\n",
       " 'me',\n",
       " 'apartment',\n",
       " 'I',\n",
       " 'll',\n",
       " 'move',\n",
       " 'in',\n",
       " 'the',\n",
       " 'lobby',\n",
       " 'Niggas',\n",
       " 'is',\n",
       " 'loiterin',\n",
       " 'just',\n",
       " 'to',\n",
       " 'feel',\n",
       " 'important',\n",
       " 'You',\n",
       " 'gon',\n",
       " 'see',\n",
       " 'lawyers',\n",
       " 'and',\n",
       " 'niggas',\n",
       " 'in',\n",
       " 'Jordans']"
      ]
     },
     "execution_count": 39,
     "metadata": {},
     "output_type": "execute_result"
    }
   ],
   "source": [
    "tokenize_songs = [tokenize_song() for s in songs]"
   ]
  },
  {
   "cell_type": "code",
   "execution_count": null,
   "metadata": {},
   "outputs": [],
   "source": []
  }
 ],
 "metadata": {
  "kernelspec": {
   "display_name": "Python 3",
   "language": "python",
   "name": "python3"
  },
  "language_info": {
   "codemirror_mode": {
    "name": "ipython",
    "version": 3
   },
   "file_extension": ".py",
   "mimetype": "text/x-python",
   "name": "python",
   "nbconvert_exporter": "python",
   "pygments_lexer": "ipython3",
   "version": "3.6.5"
  }
 },
 "nbformat": 4,
 "nbformat_minor": 2
}

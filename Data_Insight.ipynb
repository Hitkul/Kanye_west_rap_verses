{
 "cells": [
  {
   "cell_type": "code",
   "execution_count": 47,
   "metadata": {},
   "outputs": [],
   "source": [
    "from nltk.tokenize import RegexpTokenizer\n",
    "from nltk import ngrams, FreqDist"
   ]
  },
  {
   "cell_type": "code",
   "execution_count": 48,
   "metadata": {},
   "outputs": [],
   "source": [
    "def read_lines(filename):\n",
    "    with open(filename,'r') as fin:\n",
    "        return fin.readlines()"
   ]
  },
  {
   "cell_type": "code",
   "execution_count": 49,
   "metadata": {},
   "outputs": [],
   "source": [
    "def group_lines(lines):\n",
    "    songs = []\n",
    "    index_of_last_new_line = -1\n",
    "    for i,line in enumerate(lines):\n",
    "        if line == '\\n':\n",
    "            songs.append(' '.join(lines[(index_of_last_new_line+1):i]))\n",
    "            index_of_last_new_line = i\n",
    "    return songs"
   ]
  },
  {
   "cell_type": "code",
   "execution_count": 50,
   "metadata": {},
   "outputs": [],
   "source": [
    "lines = read_lines('data/kanye_verses.txt')"
   ]
  },
  {
   "cell_type": "code",
   "execution_count": 51,
   "metadata": {},
   "outputs": [],
   "source": [
    "songs = group_lines(lines)"
   ]
  },
  {
   "cell_type": "code",
   "execution_count": 52,
   "metadata": {},
   "outputs": [],
   "source": [
    "songs = [s.replace('\\n','') for s in songs]"
   ]
  },
  {
   "cell_type": "code",
   "execution_count": 53,
   "metadata": {},
   "outputs": [],
   "source": [
    "def tokenize_song(song):\n",
    "    tokenizer = RegexpTokenizer(r'\\w+')\n",
    "    return tokenizer.tokenize(song)"
   ]
  },
  {
   "cell_type": "code",
   "execution_count": 54,
   "metadata": {},
   "outputs": [],
   "source": [
    "tokenized_songs = [tokenize_song(s) for s in songs]"
   ]
  },
  {
   "cell_type": "code",
   "execution_count": 76,
   "metadata": {},
   "outputs": [],
   "source": [
    "def freq_counter(song,ngram_size,most_common_size):\n",
    "    most_common_ngrams = FreqDist(ngrams(song, ngram_size)).most_common(most_common_size)\n",
    "    most_common_ngrams = [(' '.join(tuple_),count) for tuple_,count in most_common_ngrams]\n",
    "    return most_common_ngrams"
   ]
  },
  {
   "cell_type": "code",
   "execution_count": 80,
   "metadata": {},
   "outputs": [
    {
     "data": {
      "text/plain": [
       "[('I threw suicides', 2),\n",
       " ('threw suicides on', 2),\n",
       " ('suicides on the', 2),\n",
       " ('Let the suicide', 1),\n",
       " ('the suicide doors', 1)]"
      ]
     },
     "execution_count": 80,
     "metadata": {},
     "output_type": "execute_result"
    }
   ],
   "source": [
    "freq_counter(tokenized_songs[0],3,5)"
   ]
  },
  {
   "cell_type": "code",
   "execution_count": 66,
   "metadata": {},
   "outputs": [
    {
     "data": {
      "text/plain": [
       "[(('I', 'threw', 'suicides'), 2),\n",
       " (('threw', 'suicides', 'on'), 2),\n",
       " (('suicides', 'on', 'the'), 2),\n",
       " (('Let', 'the', 'suicide'), 1),\n",
       " (('the', 'suicide', 'doors'), 1)]"
      ]
     },
     "execution_count": 66,
     "metadata": {},
     "output_type": "execute_result"
    }
   ],
   "source": [
    "temp[3].most_common(5)"
   ]
  },
  {
   "cell_type": "code",
   "execution_count": null,
   "metadata": {},
   "outputs": [],
   "source": []
  }
 ],
 "metadata": {
  "kernelspec": {
   "display_name": "Python 3",
   "language": "python",
   "name": "python3"
  },
  "language_info": {
   "codemirror_mode": {
    "name": "ipython",
    "version": 3
   },
   "file_extension": ".py",
   "mimetype": "text/x-python",
   "name": "python",
   "nbconvert_exporter": "python",
   "pygments_lexer": "ipython3",
   "version": "3.6.5"
  }
 },
 "nbformat": 4,
 "nbformat_minor": 2
}
